{
 "cells": [
  {
   "cell_type": "markdown",
   "id": "17801282",
   "metadata": {},
   "source": [
    "# LabSession4Exercize3VisualizationTool"
   ]
  },
  {
   "cell_type": "code",
   "execution_count": 13,
   "id": "08b63f45",
   "metadata": {},
   "outputs": [],
   "source": [
    "# Define here your path\n",
    "image_path = \"ReferenceFrame.png\""
   ]
  },
  {
   "cell_type": "code",
   "execution_count": 14,
   "id": "0d616a5b",
   "metadata": {},
   "outputs": [
    {
     "name": "stdout",
     "output_type": "stream",
     "text": [
      "Coordinate clicked pixel (row,column): [201,32]\n",
      "Coordinate clicked pixel (row,column): [456,30]\n",
      "Coordinate clicked pixel (row,column): [468,401]\n",
      "Coordinate clicked pixel (row,column): [201,400]\n"
     ]
    }
   ],
   "source": [
    "%matplotlib tk\n",
    "import matplotlib.pyplot as plt\n",
    "import matplotlib.image as mpimg\n",
    "import cv2\n",
    "\n",
    "fig = plt.figure(figsize=(20,30))\n",
    "\n",
    "img=cv2.imread(image_path)\n",
    "\n",
    "def onclick(event):\n",
    "    ix, iy = event.xdata, event.ydata\n",
    "    print(\"Coordinate clicked pixel (row,column): [{},{}]\".format(int(round(ix)), int(round(iy))))\n",
    "\n",
    "cid = fig.canvas.mpl_connect('button_press_event', onclick)\n",
    "\n",
    "imgplot = plt.imshow(cv2.cvtColor(img, cv2.COLOR_BGR2RGB))\n",
    "plt.show()"
   ]
  },
  {
   "cell_type": "code",
   "execution_count": null,
   "id": "96b7510b",
   "metadata": {},
   "outputs": [],
   "source": []
  }
 ],
 "metadata": {
  "kernelspec": {
   "display_name": "Python 3 (ipykernel)",
   "language": "python",
   "name": "python3"
  },
  "language_info": {
   "codemirror_mode": {
    "name": "ipython",
    "version": 3
   },
   "file_extension": ".py",
   "mimetype": "text/x-python",
   "name": "python",
   "nbconvert_exporter": "python",
   "pygments_lexer": "ipython3",
   "version": "3.10.7"
  }
 },
 "nbformat": 4,
 "nbformat_minor": 5
}
